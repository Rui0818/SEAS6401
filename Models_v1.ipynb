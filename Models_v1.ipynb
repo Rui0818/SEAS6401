{
 "cells": [
  {
   "cell_type": "code",
   "execution_count": 2,
   "id": "f4f3052b",
   "metadata": {},
   "outputs": [],
   "source": [
    "import pandas as pd\n",
    "import numpy as np\n",
    "import zipfile\n",
    "# For data visualization\n",
    "import missingno as msno\n",
    "import matplotlib.pyplot as plt\n",
    "import seaborn as sns\n",
    "plt.style.use('ggplot')\n",
    "# import plotly.offline as po\n",
    "# import plotly.graph_objs as go\n",
    "\n",
    "# For models\n",
    "from sklearn.model_selection import train_test_split, RandomizedSearchCV\n",
    "from sklearn.preprocessing import MinMaxScaler\n",
    "from sklearn.metrics import (\n",
    "    accuracy_score, confusion_matrix, classification_report, \n",
    "    roc_auc_score, roc_curve, auc,\n",
    "    plot_confusion_matrix, plot_roc_curve\n",
    ")\n",
    "from sklearn.linear_model import LogisticRegression\n",
    "from sklearn.ensemble import RandomForestClassifier\n",
    "from xgboost import XGBClassifier"
   ]
  },
  {
   "cell_type": "code",
   "execution_count": 3,
   "id": "614dddb7",
   "metadata": {},
   "outputs": [
    {
     "data": {
      "text/html": [
       "<div>\n",
       "<style scoped>\n",
       "    .dataframe tbody tr th:only-of-type {\n",
       "        vertical-align: middle;\n",
       "    }\n",
       "\n",
       "    .dataframe tbody tr th {\n",
       "        vertical-align: top;\n",
       "    }\n",
       "\n",
       "    .dataframe thead th {\n",
       "        text-align: right;\n",
       "    }\n",
       "</style>\n",
       "<table border=\"1\" class=\"dataframe\">\n",
       "  <thead>\n",
       "    <tr style=\"text-align: right;\">\n",
       "      <th></th>\n",
       "      <th>Unnamed: 0</th>\n",
       "      <th>loan_amnt</th>\n",
       "      <th>term</th>\n",
       "      <th>int_rate</th>\n",
       "      <th>sub_grade</th>\n",
       "      <th>home_ownership</th>\n",
       "      <th>annual_inc</th>\n",
       "      <th>verification_status</th>\n",
       "      <th>purpose</th>\n",
       "      <th>addr_state</th>\n",
       "      <th>...</th>\n",
       "      <th>pub_rec</th>\n",
       "      <th>revol_bal</th>\n",
       "      <th>revol_util</th>\n",
       "      <th>initial_list_status</th>\n",
       "      <th>application_type</th>\n",
       "      <th>mort_acc</th>\n",
       "      <th>pub_rec_bankruptcies</th>\n",
       "      <th>loan_status_flag</th>\n",
       "      <th>fico</th>\n",
       "      <th>earliest_cr_line_y</th>\n",
       "    </tr>\n",
       "  </thead>\n",
       "  <tbody>\n",
       "    <tr>\n",
       "      <th>0</th>\n",
       "      <td>0</td>\n",
       "      <td>5000.0</td>\n",
       "      <td>36</td>\n",
       "      <td>10.65</td>\n",
       "      <td>B2</td>\n",
       "      <td>RENT</td>\n",
       "      <td>24000.0</td>\n",
       "      <td>Verified</td>\n",
       "      <td>credit_card</td>\n",
       "      <td>AZ</td>\n",
       "      <td>...</td>\n",
       "      <td>0.0</td>\n",
       "      <td>13648.0</td>\n",
       "      <td>83.7</td>\n",
       "      <td>f</td>\n",
       "      <td>Individual</td>\n",
       "      <td>2.0</td>\n",
       "      <td>0.0</td>\n",
       "      <td>0</td>\n",
       "      <td>737.0</td>\n",
       "      <td>36</td>\n",
       "    </tr>\n",
       "    <tr>\n",
       "      <th>1</th>\n",
       "      <td>1</td>\n",
       "      <td>2500.0</td>\n",
       "      <td>60</td>\n",
       "      <td>15.27</td>\n",
       "      <td>C4</td>\n",
       "      <td>RENT</td>\n",
       "      <td>30000.0</td>\n",
       "      <td>Source Verified</td>\n",
       "      <td>car</td>\n",
       "      <td>GA</td>\n",
       "      <td>...</td>\n",
       "      <td>0.0</td>\n",
       "      <td>1687.0</td>\n",
       "      <td>9.4</td>\n",
       "      <td>f</td>\n",
       "      <td>Individual</td>\n",
       "      <td>2.0</td>\n",
       "      <td>0.0</td>\n",
       "      <td>1</td>\n",
       "      <td>742.0</td>\n",
       "      <td>22</td>\n",
       "    </tr>\n",
       "    <tr>\n",
       "      <th>2</th>\n",
       "      <td>2</td>\n",
       "      <td>2400.0</td>\n",
       "      <td>36</td>\n",
       "      <td>15.96</td>\n",
       "      <td>C5</td>\n",
       "      <td>RENT</td>\n",
       "      <td>12252.0</td>\n",
       "      <td>Not Verified</td>\n",
       "      <td>small_business</td>\n",
       "      <td>IL</td>\n",
       "      <td>...</td>\n",
       "      <td>0.0</td>\n",
       "      <td>2956.0</td>\n",
       "      <td>98.5</td>\n",
       "      <td>f</td>\n",
       "      <td>Individual</td>\n",
       "      <td>2.0</td>\n",
       "      <td>0.0</td>\n",
       "      <td>0</td>\n",
       "      <td>737.0</td>\n",
       "      <td>20</td>\n",
       "    </tr>\n",
       "    <tr>\n",
       "      <th>3</th>\n",
       "      <td>3</td>\n",
       "      <td>10000.0</td>\n",
       "      <td>36</td>\n",
       "      <td>13.49</td>\n",
       "      <td>C1</td>\n",
       "      <td>RENT</td>\n",
       "      <td>49200.0</td>\n",
       "      <td>Source Verified</td>\n",
       "      <td>other</td>\n",
       "      <td>CA</td>\n",
       "      <td>...</td>\n",
       "      <td>0.0</td>\n",
       "      <td>5598.0</td>\n",
       "      <td>21.0</td>\n",
       "      <td>f</td>\n",
       "      <td>Individual</td>\n",
       "      <td>2.0</td>\n",
       "      <td>0.0</td>\n",
       "      <td>0</td>\n",
       "      <td>692.0</td>\n",
       "      <td>25</td>\n",
       "    </tr>\n",
       "    <tr>\n",
       "      <th>4</th>\n",
       "      <td>4</td>\n",
       "      <td>3000.0</td>\n",
       "      <td>60</td>\n",
       "      <td>12.69</td>\n",
       "      <td>B5</td>\n",
       "      <td>RENT</td>\n",
       "      <td>80000.0</td>\n",
       "      <td>Source Verified</td>\n",
       "      <td>other</td>\n",
       "      <td>OR</td>\n",
       "      <td>...</td>\n",
       "      <td>0.0</td>\n",
       "      <td>27783.0</td>\n",
       "      <td>53.9</td>\n",
       "      <td>f</td>\n",
       "      <td>Individual</td>\n",
       "      <td>2.0</td>\n",
       "      <td>0.0</td>\n",
       "      <td>0</td>\n",
       "      <td>697.0</td>\n",
       "      <td>25</td>\n",
       "    </tr>\n",
       "  </tbody>\n",
       "</table>\n",
       "<p>5 rows × 22 columns</p>\n",
       "</div>"
      ],
      "text/plain": [
       "   Unnamed: 0  loan_amnt  term  int_rate sub_grade home_ownership  annual_inc  \\\n",
       "0           0     5000.0    36     10.65        B2           RENT     24000.0   \n",
       "1           1     2500.0    60     15.27        C4           RENT     30000.0   \n",
       "2           2     2400.0    36     15.96        C5           RENT     12252.0   \n",
       "3           3    10000.0    36     13.49        C1           RENT     49200.0   \n",
       "4           4     3000.0    60     12.69        B5           RENT     80000.0   \n",
       "\n",
       "  verification_status         purpose addr_state  ...  pub_rec  revol_bal  \\\n",
       "0            Verified     credit_card         AZ  ...      0.0    13648.0   \n",
       "1     Source Verified             car         GA  ...      0.0     1687.0   \n",
       "2        Not Verified  small_business         IL  ...      0.0     2956.0   \n",
       "3     Source Verified           other         CA  ...      0.0     5598.0   \n",
       "4     Source Verified           other         OR  ...      0.0    27783.0   \n",
       "\n",
       "   revol_util  initial_list_status  application_type mort_acc  \\\n",
       "0        83.7                    f        Individual      2.0   \n",
       "1         9.4                    f        Individual      2.0   \n",
       "2        98.5                    f        Individual      2.0   \n",
       "3        21.0                    f        Individual      2.0   \n",
       "4        53.9                    f        Individual      2.0   \n",
       "\n",
       "  pub_rec_bankruptcies  loan_status_flag   fico  earliest_cr_line_y  \n",
       "0                  0.0                 0  737.0                  36  \n",
       "1                  0.0                 1  742.0                  22  \n",
       "2                  0.0                 0  737.0                  20  \n",
       "3                  0.0                 0  692.0                  25  \n",
       "4                  0.0                 0  697.0                  25  \n",
       "\n",
       "[5 rows x 22 columns]"
      ]
     },
     "execution_count": 3,
     "metadata": {},
     "output_type": "execute_result"
    }
   ],
   "source": [
    "loan = pd.read_csv('loan.csv')\n",
    "\n",
    "loan.head()"
   ]
  },
  {
   "cell_type": "code",
   "execution_count": 4,
   "id": "274bf6ae",
   "metadata": {},
   "outputs": [
    {
     "data": {
      "text/plain": [
       "Index(['Unnamed: 0', 'loan_amnt', 'term', 'int_rate', 'sub_grade',\n",
       "       'home_ownership', 'annual_inc', 'verification_status', 'purpose',\n",
       "       'addr_state', 'dti', 'open_acc', 'pub_rec', 'revol_bal', 'revol_util',\n",
       "       'initial_list_status', 'application_type', 'mort_acc',\n",
       "       'pub_rec_bankruptcies', 'loan_status_flag', 'fico',\n",
       "       'earliest_cr_line_y'],\n",
       "      dtype='object')"
      ]
     },
     "execution_count": 4,
     "metadata": {},
     "output_type": "execute_result"
    }
   ],
   "source": [
    "loan.columns"
   ]
  },
  {
   "cell_type": "code",
   "execution_count": 5,
   "id": "47b00f64",
   "metadata": {},
   "outputs": [],
   "source": [
    "loan.drop('Unnamed: 0',axis=1, inplace=True)"
   ]
  },
  {
   "cell_type": "code",
   "execution_count": 6,
   "id": "8cf302b4",
   "metadata": {},
   "outputs": [
    {
     "data": {
      "text/plain": [
       "(1857132, 21)"
      ]
     },
     "execution_count": 6,
     "metadata": {},
     "output_type": "execute_result"
    }
   ],
   "source": [
    "loan.shape"
   ]
  },
  {
   "cell_type": "markdown",
   "id": "746862bf",
   "metadata": {},
   "source": [
    "## **Create Dummy Variables**"
   ]
  },
  {
   "cell_type": "code",
   "execution_count": 7,
   "id": "197f557b",
   "metadata": {},
   "outputs": [
    {
     "data": {
      "text/plain": [
       "['sub_grade',\n",
       " 'home_ownership',\n",
       " 'verification_status',\n",
       " 'purpose',\n",
       " 'addr_state',\n",
       " 'initial_list_status',\n",
       " 'application_type']"
      ]
     },
     "execution_count": 7,
     "metadata": {},
     "output_type": "execute_result"
    }
   ],
   "source": [
    "#Find all the categorical variables\n",
    "dummy = [column for column in loan.columns if loan[column].dtype == object]\n",
    "dummy"
   ]
  },
  {
   "cell_type": "code",
   "execution_count": 8,
   "id": "f8f84b82",
   "metadata": {},
   "outputs": [],
   "source": [
    "loan = pd.get_dummies(loan, columns=dummy, drop_first=True)"
   ]
  },
  {
   "cell_type": "code",
   "execution_count": 9,
   "id": "d6c8209c",
   "metadata": {},
   "outputs": [],
   "source": [
    "# plt.figure(figsize=(7,16))\n",
    "# loan.corr().loan_status_flag.sort_values()[:-1].plot.barh()\n",
    "# plt.title('Correlation of Charged Off with Features')"
   ]
  },
  {
   "cell_type": "markdown",
   "id": "1fa67efa",
   "metadata": {},
   "source": [
    "## **Train Test Split**"
   ]
  },
  {
   "cell_type": "code",
   "execution_count": 10,
   "id": "dc69bfe6",
   "metadata": {},
   "outputs": [],
   "source": [
    "X = loan.drop('loan_status_flag', axis=1)\n",
    "y = loan['loan_status_flag']"
   ]
  },
  {
   "cell_type": "code",
   "execution_count": 11,
   "id": "697faae3",
   "metadata": {},
   "outputs": [],
   "source": [
    "X_train, X_test, y_train, y_test = train_test_split(X, y, test_size=0.2,stratify=y, random_state=666)"
   ]
  },
  {
   "cell_type": "code",
   "execution_count": 12,
   "id": "70bf19db",
   "metadata": {
    "scrolled": false
   },
   "outputs": [
    {
     "name": "stdout",
     "output_type": "stream",
     "text": [
      "X_train.shape:  (1485705, 117)\n",
      "X_test.shape:   (371427, 117)\n",
      "y_train.shape:  (1485705,)\n",
      "y_test.shape:   (371427,)\n"
     ]
    }
   ],
   "source": [
    "print(\"X_train.shape: \", X_train.shape)\n",
    "print(\"X_test.shape:  \", X_test.shape)\n",
    "print(\"y_train.shape: \", y_train.shape)\n",
    "print(\"y_test.shape:  \", y_test.shape)"
   ]
  },
  {
   "cell_type": "markdown",
   "id": "f89fdd18",
   "metadata": {},
   "source": [
    "## Downsampling"
   ]
  },
  {
   "cell_type": "code",
   "execution_count": 13,
   "id": "0b01ad90",
   "metadata": {
    "scrolled": true
   },
   "outputs": [
    {
     "data": {
      "text/plain": [
       "0.19489137013416385"
      ]
     },
     "execution_count": 13,
     "metadata": {},
     "output_type": "execute_result"
    }
   ],
   "source": [
    "loan['loan_status_flag'].mean()"
   ]
  },
  {
   "cell_type": "code",
   "execution_count": 14,
   "id": "79a939b6",
   "metadata": {},
   "outputs": [],
   "source": [
    "loan_positive = loan[loan['loan_status_flag']==1]\n",
    "loan_negative = loan[loan['loan_status_flag']==0]"
   ]
  },
  {
   "cell_type": "code",
   "execution_count": 15,
   "id": "aa029e54",
   "metadata": {},
   "outputs": [
    {
     "data": {
      "text/plain": [
       "((361939, 118), (1495193, 118))"
      ]
     },
     "execution_count": 15,
     "metadata": {},
     "output_type": "execute_result"
    }
   ],
   "source": [
    "loan_positive.shape, loan_negative.shape"
   ]
  },
  {
   "cell_type": "code",
   "execution_count": 16,
   "id": "6e89ddb9",
   "metadata": {},
   "outputs": [],
   "source": [
    "loan_negative_sample = loan_negative.sample(n=loan_positive.shape[0], random_state=2021)"
   ]
  },
  {
   "cell_type": "code",
   "execution_count": 17,
   "id": "dce62330",
   "metadata": {},
   "outputs": [
    {
     "data": {
      "text/plain": [
       "((361939, 118), (361939, 118))"
      ]
     },
     "execution_count": 17,
     "metadata": {},
     "output_type": "execute_result"
    }
   ],
   "source": [
    "loan_positive.shape, loan_negative_sample.shape"
   ]
  },
  {
   "cell_type": "code",
   "execution_count": 18,
   "id": "3a5a21b3",
   "metadata": {},
   "outputs": [],
   "source": [
    "loan_downsample = pd.concat([loan_positive, loan_negative_sample])"
   ]
  },
  {
   "cell_type": "code",
   "execution_count": 19,
   "id": "7832ca86",
   "metadata": {},
   "outputs": [
    {
     "data": {
      "text/plain": [
       "(723878, 118)"
      ]
     },
     "execution_count": 19,
     "metadata": {},
     "output_type": "execute_result"
    }
   ],
   "source": [
    "loan_downsample.shape"
   ]
  },
  {
   "cell_type": "code",
   "execution_count": 20,
   "id": "bcd62e17",
   "metadata": {},
   "outputs": [],
   "source": [
    "X_down = loan_downsample.drop('loan_status_flag', axis=1)\n",
    "y_down = loan_downsample['loan_status_flag']\n",
    "X_down_train, X_down_test, y_down_train, y_down_test = train_test_split(X_down, y_down, test_size=0.2,stratify=y_down, random_state=2021)"
   ]
  },
  {
   "cell_type": "markdown",
   "id": "3d93d352",
   "metadata": {},
   "source": [
    "# **Models Building**\n",
    "\n",
    "First, define a function to output accuracy scor, classification report and confusion matrix."
   ]
  },
  {
   "cell_type": "code",
   "execution_count": 23,
   "id": "174b4d72",
   "metadata": {},
   "outputs": [],
   "source": [
    "def output(model, xtrain, ytrain, xtest, ytest):\n",
    "    test_pred = model.predict(xtest)\n",
    "    train_pred = model.predict(xtrain)\n",
    "    test_pred_prob = model.predict_proba(xtest)\n",
    "    train_pred_prob = model.predict_proba(xtrain)\n",
    "    # The roc_auc_score need to feed in y_true and y_score\n",
    "    # https://scikit-learn.org/stable/modules/generated/sklearn.metrics.roc_auc_score.html?highlight=roc_auc_score#sklearn.metrics.roc_auc_score\n",
    "    train_roc_score = np.round(roc_auc_score(ytrain, train_pred_prob[:, 1], average='micro'),4)\n",
    "    test_roc_score = np.round(roc_auc_score(ytest, test_pred_prob[:, 1], average='micro'),4)    \n",
    "    train_acc_score = np.round(accuracy_score(ytrain, train_pred),4)\n",
    "    test_acc_score = np.round(accuracy_score(ytest, test_pred),4)\n",
    "    print('ROC score on train data:', train_roc_score)\n",
    "    print('ROC score on test data:', test_roc_score)\n",
    "    print('Accuracy score on train data:', train_acc_score)\n",
    "    print('Accuracy score on test data:', test_acc_score)\n",
    "    print('Classification Report:\\n',classification_report(ytest, test_pred))\n",
    "    print('Confusion Matrix:\\n', confusion_matrix(ytest, test_pred))\n",
    "    return (train_roc_score,test_roc_score,train_acc_score, test_acc_score)"
   ]
  },
  {
   "cell_type": "code",
   "execution_count": 21,
   "id": "b4625128",
   "metadata": {},
   "outputs": [],
   "source": [
    "# prediction_model_list = ['Logistic Regression', 'Random Forest Classifier','XGBoost Classifier']\n",
    "# cols = pd.MultiIndex.from_product([['ROC Score','Accuracy Score'],['Train','Test']])\n",
    "# score = pd.DataFrame(columns=cols, index=prediction_model_list)"
   ]
  },
  {
   "cell_type": "markdown",
   "id": "45314e55",
   "metadata": {},
   "source": [
    "## 1. Logistic Regression"
   ]
  },
  {
   "cell_type": "markdown",
   "id": "4b472e8f",
   "metadata": {},
   "source": [
    "### 1.1 Naive logistric regression"
   ]
  },
  {
   "cell_type": "code",
   "execution_count": 22,
   "id": "102a6f8d",
   "metadata": {},
   "outputs": [
    {
     "name": "stdout",
     "output_type": "stream",
     "text": [
      "Wall time: 16min 26s\n"
     ]
    },
    {
     "data": {
      "text/plain": [
       "LogisticRegression(max_iter=1000, n_jobs=-1)"
      ]
     },
     "execution_count": 22,
     "metadata": {},
     "output_type": "execute_result"
    }
   ],
   "source": [
    "# lr_v0: no scaler\n",
    "lr_v0 = LogisticRegression(max_iter=1000)\n",
    "lr_v0.fit(X_train, y_train)"
   ]
  },
  {
   "cell_type": "code",
   "execution_count": 23,
   "id": "7c1dd5fc",
   "metadata": {},
   "outputs": [
    {
     "name": "stdout",
     "output_type": "stream",
     "text": [
      "ROC score on train data: 0.6974\n",
      "ROC score on test data: 0.6974\n",
      "Accuracy score on train data: 0.8052\n",
      "Accuracy score on test data: 0.8055\n",
      "Classification Report:\n",
      "               precision    recall  f1-score   support\n",
      "\n",
      "           0       0.81      0.99      0.89    299039\n",
      "           1       0.51      0.06      0.11     72388\n",
      "\n",
      "    accuracy                           0.81    371427\n",
      "   macro avg       0.66      0.52      0.50    371427\n",
      "weighted avg       0.75      0.81      0.74    371427\n",
      "\n",
      "Confusion Matrix:\n",
      " [[294849   4190]\n",
      " [ 68064   4324]]\n"
     ]
    }
   ],
   "source": [
    "perf_lr_v0 = output(lr_v0, X_train, y_train, X_test, y_test) "
   ]
  },
  {
   "cell_type": "markdown",
   "id": "747bcb5f",
   "metadata": {},
   "source": [
    "### 1.2 MinMaxScaler to normalize the features\n",
    "\n",
    "Next, we try to use the `MinMaxScaler` to normalize the data before feeding them into the model"
   ]
  },
  {
   "cell_type": "code",
   "execution_count": 24,
   "id": "b72f2575",
   "metadata": {},
   "outputs": [],
   "source": [
    "# we need to use normalized train data in Logistic Regression\n",
    "scaler = MinMaxScaler()\n",
    "X_train_n = scaler.fit_transform(X_train)\n",
    "X_test_n = scaler.transform(X_test)"
   ]
  },
  {
   "cell_type": "code",
   "execution_count": 25,
   "id": "bc30fe5d",
   "metadata": {},
   "outputs": [
    {
     "data": {
      "text/plain": [
       "LogisticRegression(max_iter=1000)"
      ]
     },
     "execution_count": 25,
     "metadata": {},
     "output_type": "execute_result"
    }
   ],
   "source": [
    "lr_v1 = LogisticRegression(max_iter=1000)\n",
    "lr_v1.fit(X_train_n, y_train)"
   ]
  },
  {
   "cell_type": "code",
   "execution_count": 26,
   "id": "87dc4e81",
   "metadata": {
    "scrolled": true
   },
   "outputs": [
    {
     "name": "stdout",
     "output_type": "stream",
     "text": [
      "ROC score on train data: 0.7052\n",
      "ROC score on test data: 0.7056\n",
      "Accuracy score on train data: 0.8065\n",
      "Accuracy score on test data: 0.8067\n",
      "Classification Report:\n",
      "               precision    recall  f1-score   support\n",
      "\n",
      "           0       0.81      0.99      0.89    299039\n",
      "           1       0.55      0.04      0.08     72388\n",
      "\n",
      "    accuracy                           0.81    371427\n",
      "   macro avg       0.68      0.52      0.49    371427\n",
      "weighted avg       0.76      0.81      0.73    371427\n",
      "\n",
      "Confusion Matrix:\n",
      " [[296556   2483]\n",
      " [ 69296   3092]]\n"
     ]
    }
   ],
   "source": [
    "perf_lr_v1 = output(lr_v1, X_train_n, y_train, X_test_n, y_test) "
   ]
  },
  {
   "cell_type": "markdown",
   "id": "9c1206d3",
   "metadata": {},
   "source": [
    "The ROC score has a little improvement here."
   ]
  },
  {
   "cell_type": "code",
   "execution_count": 35,
   "id": "ece9e30a",
   "metadata": {},
   "outputs": [
    {
     "data": {
      "text/plain": [
       "Text(0.5, 1.0, 'Confusion Matrix of Logistic Regression')"
      ]
     },
     "execution_count": 35,
     "metadata": {},
     "output_type": "execute_result"
    },
    {
     "data": {
      "image/png": "[encoded data removed]",
      "text/plain": [
       "<Figure size 432x288 with 2 Axes>"
      ]
     },
     "metadata": {},
     "output_type": "display_data"
    }
   ],
   "source": [
    "plot_confusion_matrix(\n",
    "    lr_v1, X_test_n, y_test, cmap='Oranges',normalize='true',\n",
    "    display_labels=['Fully Paid','Charged Off'])\n",
    "plt.title('Confusion Matrix of Logistic Regression')"
   ]
  },
  {
   "cell_type": "markdown",
   "id": "0a0ba182",
   "metadata": {},
   "source": [
    "### 1.3 Downsampling"
   ]
  },
  {
   "cell_type": "code",
   "execution_count": 27,
   "id": "a0e70053",
   "metadata": {},
   "outputs": [
    {
     "data": {
      "text/plain": [
       "LogisticRegression(max_iter=1000)"
      ]
     },
     "execution_count": 27,
     "metadata": {},
     "output_type": "execute_result"
    }
   ],
   "source": [
    "lr_v2 = LogisticRegression(max_iter=1000)\n",
    "lr_v2.fit(X_down_train, y_down_train)"
   ]
  },
  {
   "cell_type": "code",
   "execution_count": 28,
   "id": "49e94bc2",
   "metadata": {},
   "outputs": [
    {
     "name": "stdout",
     "output_type": "stream",
     "text": [
      "ROC score on train data: 0.6808\n",
      "ROC score on test data: 0.6827\n",
      "Accuracy score on train data: 0.6214\n",
      "Accuracy score on test data: 0.6236\n",
      "Classification Report:\n",
      "               precision    recall  f1-score   support\n",
      "\n",
      "           0       0.60      0.72      0.66     72388\n",
      "           1       0.65      0.53      0.58     72388\n",
      "\n",
      "    accuracy                           0.62    144776\n",
      "   macro avg       0.63      0.62      0.62    144776\n",
      "weighted avg       0.63      0.62      0.62    144776\n",
      "\n",
      "Confusion Matrix:\n",
      " [[52044 20344]\n",
      " [34152 38236]]\n"
     ]
    }
   ],
   "source": [
    "perf_lr_v2 = output(lr_v2, X_down_train, y_down_train, X_down_test, y_down_test) "
   ]
  },
  {
   "cell_type": "code",
   "execution_count": 36,
   "id": "d9717407",
   "metadata": {},
   "outputs": [
    {
     "data": {
      "text/plain": [
       "Text(0.5, 1.0, 'Confusion Matrix of Logistic Regression')"
      ]
     },
     "execution_count": 36,
     "metadata": {},
     "output_type": "execute_result"
    },
    {
     "data": {
      "image/png": "[encoded data removed]",
      "text/plain": [
       "<Figure size 432x288 with 2 Axes>"
      ]
     },
     "metadata": {},
     "output_type": "display_data"
    }
   ],
   "source": [
    "plot_confusion_matrix(\n",
    "    lr_v2, X_down_test, y_down_test, cmap='Oranges', \n",
    "    normalize='true',\n",
    "    display_labels=['Fully Paid','Charged Off'])\n",
    "plt.title('Confusion Matrix of Logistic Regression')"
   ]
  },
  {
   "cell_type": "code",
   "execution_count": 37,
   "id": "5d5abf31",
   "metadata": {},
   "outputs": [],
   "source": [
    "# plot1 = plot_roc_curve(lr_v2, X_down_test, y_down_test)\n",
    "# plt.title('ROC Score of Logistic Regression')"
   ]
  },
  {
   "cell_type": "markdown",
   "id": "4a0ea1bb",
   "metadata": {},
   "source": [
    "## 2. Random Forest Classifier\n",
    "### 2.1 Naive RF"
   ]
  },
  {
   "cell_type": "code",
   "execution_count": 39,
   "id": "448724cd",
   "metadata": {},
   "outputs": [
    {
     "data": {
      "text/plain": [
       "RandomForestClassifier(n_jobs=-1)"
      ]
     },
     "execution_count": 39,
     "metadata": {},
     "output_type": "execute_result"
    }
   ],
   "source": [
    "rf_v0 = RandomForestClassifier(n_jobs = -1)\n",
    "rf_v0.fit(X_train, y_train)"
   ]
  },
  {
   "cell_type": "code",
   "execution_count": 40,
   "id": "d46e8b43",
   "metadata": {
    "scrolled": true
   },
   "outputs": [
    {
     "name": "stdout",
     "output_type": "stream",
     "text": [
      "ROC score on train data: 1.0\n",
      "ROC score on test data: 0.7022\n",
      "Accuracy score on train data: 1.0\n",
      "Accuracy score on test data: 0.807\n",
      "Classification Report:\n",
      "               precision    recall  f1-score   support\n",
      "\n",
      "           0       0.81      0.99      0.89    299039\n",
      "           1       0.55      0.06      0.10     72388\n",
      "\n",
      "    accuracy                           0.81    371427\n",
      "   macro avg       0.68      0.52      0.50    371427\n",
      "weighted avg       0.76      0.81      0.74    371427\n",
      "\n",
      "Confusion Matrix:\n",
      " [[295690   3349]\n",
      " [ 68328   4060]]\n"
     ]
    }
   ],
   "source": [
    "perf_rf_v0 = output(rf_v0, X_train, y_train, X_test, y_test)"
   ]
  },
  {
   "cell_type": "markdown",
   "id": "657d64c8",
   "metadata": {},
   "source": [
    "Overfitting is a concern because the accuracy and rocauc are both 1.0 on the train data.\n"
   ]
  },
  {
   "cell_type": "markdown",
   "id": "d74e457f",
   "metadata": {},
   "source": [
    "### 2.2 Downsampling RF"
   ]
  },
  {
   "cell_type": "code",
   "execution_count": 49,
   "id": "b8a1be3d",
   "metadata": {},
   "outputs": [
    {
     "data": {
      "text/plain": [
       "RandomForestClassifier(n_jobs=-1)"
      ]
     },
     "execution_count": 49,
     "metadata": {},
     "output_type": "execute_result"
    }
   ],
   "source": [
    "rf_v1 = RandomForestClassifier(n_jobs = -1)\n",
    "rf_v1.fit(X_down_train, y_down_train)"
   ]
  },
  {
   "cell_type": "code",
   "execution_count": 55,
   "id": "081c3814",
   "metadata": {},
   "outputs": [
    {
     "data": {
      "text/plain": [
       "(100, 1)"
      ]
     },
     "execution_count": 55,
     "metadata": {},
     "output_type": "execute_result"
    }
   ],
   "source": [
    "rf_v1.n_estimators, rf_v1.min_samples_leaf"
   ]
  },
  {
   "cell_type": "code",
   "execution_count": 50,
   "id": "3eb726d4",
   "metadata": {
    "scrolled": true
   },
   "outputs": [
    {
     "name": "stdout",
     "output_type": "stream",
     "text": [
      "ROC score on train data: 1.0\n",
      "ROC score on test data: 0.7068\n",
      "Accuracy score on train data: 1.0\n",
      "Accuracy score on test data: 0.6504\n",
      "Classification Report:\n",
      "               precision    recall  f1-score   support\n",
      "\n",
      "           0       0.65      0.64      0.65     72388\n",
      "           1       0.65      0.66      0.65     72388\n",
      "\n",
      "    accuracy                           0.65    144776\n",
      "   macro avg       0.65      0.65      0.65    144776\n",
      "weighted avg       0.65      0.65      0.65    144776\n",
      "\n",
      "Confusion Matrix:\n",
      " [[46358 26030]\n",
      " [24584 47804]]\n"
     ]
    }
   ],
   "source": [
    "perf_rf_v1 = output(rf_v1, X_down_train, y_down_train, X_down_test, y_down_test)"
   ]
  },
  {
   "cell_type": "code",
   "execution_count": 51,
   "id": "ebbd8908",
   "metadata": {},
   "outputs": [
    {
     "data": {
      "text/plain": [
       "Text(0.5, 1.0, 'Confusion Matrix of Random Forest')"
      ]
     },
     "execution_count": 51,
     "metadata": {},
     "output_type": "execute_result"
    },
    {
     "data": {
      "image/png": "[encoded data removed]",
      "text/plain": [
       "<Figure size 432x288 with 2 Axes>"
      ]
     },
     "metadata": {},
     "output_type": "display_data"
    }
   ],
   "source": [
    "plot_confusion_matrix(\n",
    "    rf_v1, X_down_test, y_down_test, cmap='Oranges', \n",
    "    normalize='true',\n",
    "    display_labels=['Fully Paid','Charged Off'])\n",
    "plt.title('Confusion Matrix of Random Forest')"
   ]
  },
  {
   "cell_type": "markdown",
   "id": "16c4986c",
   "metadata": {},
   "source": [
    "We see some improvement here compared to the logistic regression."
   ]
  },
  {
   "cell_type": "markdown",
   "id": "8ba4fce3",
   "metadata": {},
   "source": [
    "## 3. XGBoost \n",
    "### 3.1 First try, downsampling"
   ]
  },
  {
   "cell_type": "code",
   "execution_count": 56,
   "id": "68b7cebe",
   "metadata": {},
   "outputs": [
    {
     "name": "stdout",
     "output_type": "stream",
     "text": [
      "[23:45:44] WARNING: ..\\src\\learner.cc:1061: Starting in XGBoost 1.3.0, the default evaluation metric used with the objective 'binary:logistic' was changed from 'error' to 'logloss'. Explicitly set eval_metric if you'd like to restore the old behavior.\n"
     ]
    },
    {
     "data": {
      "text/plain": [
       "XGBClassifier(base_score=0.5, booster='gbtree', colsample_bylevel=1,\n",
       "              colsample_bynode=1, colsample_bytree=1, gamma=0, gpu_id=-1,\n",
       "              importance_type='gain', interaction_constraints='',\n",
       "              learning_rate=0.300000012, max_delta_step=0, max_depth=6,\n",
       "              min_child_weight=1, missing=nan, monotone_constraints='()',\n",
       "              n_estimators=100, n_jobs=12, num_parallel_tree=1, random_state=0,\n",
       "              reg_alpha=0, reg_lambda=1, scale_pos_weight=1, subsample=1,\n",
       "              tree_method='exact', use_label_encoder=False,\n",
       "              validate_parameters=1, verbosity=None)"
      ]
     },
     "execution_count": 56,
     "metadata": {},
     "output_type": "execute_result"
    }
   ],
   "source": [
    "xgb_v1= XGBClassifier(use_label_encoder=False)\n",
    "xgb_v1.fit(X_down_train, y_down_train)"
   ]
  },
  {
   "cell_type": "code",
   "execution_count": 57,
   "id": "0ec59269",
   "metadata": {
    "scrolled": true
   },
   "outputs": [
    {
     "name": "stdout",
     "output_type": "stream",
     "text": [
      "ROC score on train data: 0.7371\n",
      "ROC score on test data: 0.7176\n",
      "Accuracy score on train data: 0.6723\n",
      "Accuracy score on test data: 0.6573\n",
      "Classification Report:\n",
      "               precision    recall  f1-score   support\n",
      "\n",
      "           0       0.66      0.64      0.65     72388\n",
      "           1       0.65      0.68      0.66     72388\n",
      "\n",
      "    accuracy                           0.66    144776\n",
      "   macro avg       0.66      0.66      0.66    144776\n",
      "weighted avg       0.66      0.66      0.66    144776\n",
      "\n",
      "Confusion Matrix:\n",
      " [[46071 26317]\n",
      " [23301 49087]]\n"
     ]
    }
   ],
   "source": [
    "perf_xgb_v1 = output(xgb_v1, X_down_train, y_down_train, X_down_test, y_down_test)"
   ]
  },
  {
   "cell_type": "code",
   "execution_count": 61,
   "id": "c48e3239",
   "metadata": {},
   "outputs": [
    {
     "data": {
      "text/plain": [
       "Text(0.5, 1.0, 'Confusion Matrix of Random Forest')"
      ]
     },
     "execution_count": 61,
     "metadata": {},
     "output_type": "execute_result"
    },
    {
     "data": {
      "image/png": "[encoded data removed]",
      "text/plain": [
       "<Figure size 432x288 with 2 Axes>"
      ]
     },
     "metadata": {},
     "output_type": "display_data"
    }
   ],
   "source": [
    "plot_confusion_matrix(\n",
    "    xgb_v1, X_down_test, y_down_test, cmap='Oranges', \n",
    "    normalize='true',\n",
    "    display_labels=['Fully Paid','Charged Off'])\n",
    "plt.title('Confusion Matrix of Random Forest')"
   ]
  },
  {
   "cell_type": "markdown",
   "id": "21e11a1a",
   "metadata": {},
   "source": [
    "### 3.2 Hyper-parameter tuning\n",
    "Let's try some model tuning using randomized search cv"
   ]
  },
  {
   "cell_type": "code",
   "execution_count": 21,
   "id": "81e5d2c1",
   "metadata": {
    "scrolled": true
   },
   "outputs": [
    {
     "name": "stdout",
     "output_type": "stream",
     "text": [
      "Fitting 3 folds for each of 60 candidates, totalling 180 fits\n"
     ]
    },
    {
     "name": "stderr",
     "output_type": "stream",
     "text": [
      "[Parallel(n_jobs=-1)]: Using backend LokyBackend with 12 concurrent workers.\n",
      "[Parallel(n_jobs=-1)]: Done  26 tasks      | elapsed:   15.8s\n",
      "[Parallel(n_jobs=-1)]: Done 180 out of 180 | elapsed: 572.3min finished\n"
     ]
    },
    {
     "name": "stdout",
     "output_type": "stream",
     "text": [
      "[09:41:32] WARNING: ..\\src\\learner.cc:1061: Starting in XGBoost 1.3.0, the default evaluation metric used with the objective 'binary:logistic' was changed from 'error' to 'logloss'. Explicitly set eval_metric if you'd like to restore the old behavior.\n",
      "Best Parameters: {'learning_rate': 0.6947205003833099, 'max_depth': 2, 'n_estimators': 400, 'subsample': 0.9956886580631629}\n"
     ]
    },
    {
     "name": "stderr",
     "output_type": "stream",
     "text": [
      "C:\\ProgramData\\Anaconda3\\lib\\site-packages\\xgboost\\sklearn.py:888: UserWarning: The use of label encoder in XGBClassifier is deprecated and will be removed in a future release. To remove this warning, do the following: 1) Pass option use_label_encoder=False when constructing XGBClassifier object; and 2) Encode your labels (y) as integers starting with 0, i.e. 0, 1, 2, ..., [num_class - 1].\n",
      "  warnings.warn(label_encoder_deprecation_msg, UserWarning)\n"
     ]
    },
    {
     "name": "stdout",
     "output_type": "stream",
     "text": [
      "[09:42:26] WARNING: ..\\src\\learner.cc:1061: Starting in XGBoost 1.3.0, the default evaluation metric used with the objective 'binary:logistic' was changed from 'error' to 'logloss'. Explicitly set eval_metric if you'd like to restore the old behavior.\n"
     ]
    },
    {
     "data": {
      "text/plain": [
       "XGBClassifier(base_score=0.5, booster='gbtree', colsample_bylevel=1,\n",
       "              colsample_bynode=1, colsample_bytree=1, gamma=0, gpu_id=-1,\n",
       "              importance_type='gain', interaction_constraints='',\n",
       "              learning_rate=0.6947205003833099, max_delta_step=0, max_depth=2,\n",
       "              min_child_weight=1, missing=nan, monotone_constraints='()',\n",
       "              n_estimators=400, n_jobs=12, num_parallel_tree=1, random_state=0,\n",
       "              reg_alpha=0, reg_lambda=1, scale_pos_weight=1,\n",
       "              subsample=0.9956886580631629, tree_method='exact',\n",
       "              validate_parameters=1, verbosity=None)"
      ]
     },
     "execution_count": 21,
     "metadata": {},
     "output_type": "execute_result"
    }
   ],
   "source": [
    "from scipy import stats\n",
    "param_grid = dict(\n",
    "    n_estimators=stats.randint(10, 500),\n",
    "    max_depth=stats.randint(1, 10),\n",
    "    learning_rate=stats.uniform(0, 1),\n",
    "    subsample=stats.uniform(0.5, 1)\n",
    ")\n",
    "\n",
    "xgb_clf = XGBClassifier(use_label_encoder=False)\n",
    "xgb_cv = RandomizedSearchCV(\n",
    "    xgb_clf, param_grid, cv=3, n_iter=60, \n",
    "    scoring='roc_auc', n_jobs=-1, verbose=1\n",
    ")\n",
    "xgb_cv.fit(X_down_train, y_down_train)\n",
    "\n",
    "best_params = xgb_cv.best_params_\n",
    "# best_params['tree_method'] = 'gpu_hist'\n",
    "# # best_params = {'n_estimators': 50, 'tree_method': 'gpu_hist'}\n",
    "print(f\"Best Parameters: {best_params}\")"
   ]
  },
  {
   "cell_type": "code",
   "execution_count": null,
   "id": "b8495590",
   "metadata": {},
   "outputs": [],
   "source": [
    "# Best after search\n",
    "# XGBClassifier(base_score=0.5, booster='gbtree', colsample_bylevel=1,\n",
    "#               colsample_bynode=1, colsample_bytree=1, gamma=0, gpu_id=-1,\n",
    "#               importance_type='gain', interaction_constraints='',\n",
    "#               learning_rate=0.6947205003833099, max_delta_step=0, max_depth=2,\n",
    "#               min_child_weight=1, missing=nan, monotone_constraints='()',\n",
    "#               n_estimators=400, n_jobs=12, num_parallel_tree=1, random_state=0,\n",
    "#               reg_alpha=0, reg_lambda=1, scale_pos_weight=1,\n",
    "#               subsample=0.9956886580631629, tree_method='exact',\n",
    "#               validate_parameters=1, verbosity=None)"
   ]
  },
  {
   "cell_type": "code",
   "execution_count": 26,
   "id": "d0a721ee",
   "metadata": {},
   "outputs": [
    {
     "name": "stderr",
     "output_type": "stream",
     "text": [
      "C:\\ProgramData\\Anaconda3\\lib\\site-packages\\xgboost\\sklearn.py:888: UserWarning: The use of label encoder in XGBClassifier is deprecated and will be removed in a future release. To remove this warning, do the following: 1) Pass option use_label_encoder=False when constructing XGBClassifier object; and 2) Encode your labels (y) as integers starting with 0, i.e. 0, 1, 2, ..., [num_class - 1].\n",
      "  warnings.warn(label_encoder_deprecation_msg, UserWarning)\n"
     ]
    },
    {
     "name": "stdout",
     "output_type": "stream",
     "text": [
      "[10:06:40] WARNING: ..\\src\\learner.cc:1061: Starting in XGBoost 1.3.0, the default evaluation metric used with the objective 'binary:logistic' was changed from 'error' to 'logloss'. Explicitly set eval_metric if you'd like to restore the old behavior.\n"
     ]
    },
    {
     "data": {
      "text/plain": [
       "XGBClassifier(base_score=0.5, booster='gbtree', colsample_bylevel=1,\n",
       "              colsample_bynode=1, colsample_bytree=1, gamma=0, gpu_id=-1,\n",
       "              importance_type='gain', interaction_constraints='',\n",
       "              learning_rate=0.6947205003833099, max_delta_step=0, max_depth=2,\n",
       "              min_child_weight=1, missing=nan, monotone_constraints='()',\n",
       "              n_estimators=400, n_jobs=12, num_parallel_tree=1, random_state=0,\n",
       "              reg_alpha=0, reg_lambda=1, scale_pos_weight=1,\n",
       "              subsample=0.9956886580631629, tree_method='exact',\n",
       "              validate_parameters=1, verbosity=None)"
      ]
     },
     "execution_count": 26,
     "metadata": {},
     "output_type": "execute_result"
    }
   ],
   "source": [
    "xgb_v2 = XGBClassifier(**best_params)\n",
    "xgb_v2.fit(X_down_train, y_down_train)"
   ]
  },
  {
   "cell_type": "code",
   "execution_count": 27,
   "id": "c7c816fd",
   "metadata": {},
   "outputs": [
    {
     "name": "stdout",
     "output_type": "stream",
     "text": [
      "ROC score on train data: 0.723\n",
      "ROC score on test data: 0.7189\n",
      "Accuracy score on train data: 0.6623\n",
      "Accuracy score on test data: 0.6584\n",
      "Classification Report:\n",
      "               precision    recall  f1-score   support\n",
      "\n",
      "           0       0.66      0.64      0.65     72388\n",
      "           1       0.65      0.68      0.66     72388\n",
      "\n",
      "    accuracy                           0.66    144776\n",
      "   macro avg       0.66      0.66      0.66    144776\n",
      "weighted avg       0.66      0.66      0.66    144776\n",
      "\n",
      "Confusion Matrix:\n",
      " [[46345 26043]\n",
      " [23416 48972]]\n"
     ]
    }
   ],
   "source": [
    "perf_xgb_v2 = output(xgb_v2, X_down_train, y_down_train, X_down_test, y_down_test)"
   ]
  },
  {
   "cell_type": "code",
   "execution_count": 28,
   "id": "40653c71",
   "metadata": {},
   "outputs": [
    {
     "data": {
      "text/plain": [
       "Text(0.5, 1.0, 'Confusion Matrix of Logistic Regression')"
      ]
     },
     "execution_count": 28,
     "metadata": {},
     "output_type": "execute_result"
    },
    {
     "data": {
      "image/png": "[encoded data removed]",
      "text/plain": [
       "<Figure size 432x288 with 2 Axes>"
      ]
     },
     "metadata": {},
     "output_type": "display_data"
    }
   ],
   "source": [
    "plot_confusion_matrix(\n",
    "    xgb_v2, X_down_test, y_down_test, cmap='Oranges', \n",
    "    normalize='true',\n",
    "    display_labels=['Fully Paid','Charged Off'])\n",
    "plt.title('Confusion Matrix of Logistic Regression')"
   ]
  },
  {
   "cell_type": "markdown",
   "id": "7b5c5d61",
   "metadata": {},
   "source": [
    "Improved a very little on the ROC."
   ]
  },
  {
   "cell_type": "code",
   "execution_count": null,
   "id": "cbe0789e",
   "metadata": {},
   "outputs": [],
   "source": []
  }
 ],
 "metadata": {
  "kernelspec": {
   "display_name": "Python 3",
   "language": "python",
   "name": "python3"
  },
  "language_info": {
   "codemirror_mode": {
    "name": "ipython",
    "version": 3
   },
   "file_extension": ".py",
   "mimetype": "text/x-python",
   "name": "python",
   "nbconvert_exporter": "python",
   "pygments_lexer": "ipython3",
   "version": "3.8.8"
  }
 },
 "nbformat": 4,
 "nbformat_minor": 5
}
